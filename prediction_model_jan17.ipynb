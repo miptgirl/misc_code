{
 "cells": [
  {
   "cell_type": "code",
   "execution_count": 2,
   "metadata": {
    "collapsed": false
   },
   "outputs": [
    {
     "name": "stdout",
     "output_type": "stream",
     "text": [
      "total 1519M\r\n",
      "-rw-r--r-- 1 miptgirl dpt_yandex_monetize_metrica_dev_beh 408M Jan 24 12:45 2016-12-26.csv\r\n",
      "-rw-r--r-- 1 miptgirl dpt_yandex_monetize_metrica_dev_beh 385M Jan 24 12:56 2017-01-02.csv\r\n",
      "-rw-r--r-- 1 miptgirl dpt_yandex_monetize_metrica_dev_beh 366M Jan 24 13:05 2017-01-09.csv\r\n",
      "-rw-r--r-- 1 miptgirl dpt_yandex_monetize_metrica_dev_beh 361M Jan 24 13:15 2017-01-16.csv\r\n"
     ]
    }
   ],
   "source": [
    "! ls train_data -l --block-size=M"
   ]
  },
  {
   "cell_type": "code",
   "execution_count": 3,
   "metadata": {
    "collapsed": false
   },
   "outputs": [
    {
     "name": "stdout",
     "output_type": "stream",
     "text": [
      "total 360M\r\n",
      "-rw-r--r-- 1 miptgirl dpt_yandex_monetize_metrica_dev_beh 360M Jan 24 14:25 2017-01-23.csv\r\n"
     ]
    }
   ],
   "source": [
    "! ls test_data -l --block-size=M"
   ]
  },
  {
   "cell_type": "code",
   "execution_count": 4,
   "metadata": {
    "collapsed": true
   },
   "outputs": [],
   "source": [
    "import pandas as pd\n",
    "from sklearn import model_selection, preprocessing, linear_model, metrics, feature_extraction\n",
    "import numpy as np\n",
    "import os\n",
    "import json\n",
    "\n",
    "pd.set_option('display.max_columns', 500)"
   ]
  },
  {
   "cell_type": "code",
   "execution_count": 5,
   "metadata": {
    "collapsed": false
   },
   "outputs": [
    {
     "name": "stdout",
     "output_type": "stream",
     "text": [
      "1.12.11\n"
     ]
    },
    {
     "data": {
      "text/html": [
       "<script>requirejs.config({paths: { 'plotly': ['https://cdn.plot.ly/plotly-latest.min']},});if(!window.Plotly) {{require(['plotly'],function(plotly) {window.Plotly=plotly;});}}</script>"
      ],
      "text/plain": [
       "<IPython.core.display.HTML object>"
      ]
     },
     "metadata": {},
     "output_type": "display_data"
    }
   ],
   "source": [
    "from plotly import __version__\n",
    "from plotly.offline import download_plotlyjs, init_notebook_mode, plot, iplot\n",
    "from plotly import graph_objs as go\n",
    "import requests\n",
    "import StringIO\n",
    "import pandas as pd\n",
    "import plotly\n",
    "\n",
    "print __version__ # need 1.9.0 or greater\n",
    "\n",
    "init_notebook_mode(connected = True)\n",
    "\n",
    "\n",
    "\n",
    "def plotly_df(df, title = '', filename = None):\n",
    "    data = []\n",
    "    \n",
    "    for column in df.columns:\n",
    "        trace = go.Scatter(\n",
    "            x = df.index,\n",
    "            y = df[column],\n",
    "            mode = 'lines',\n",
    "            name = column\n",
    "        )\n",
    "        data.append(trace)\n",
    "    \n",
    "    layout = dict(title = title)\n",
    "    fig = dict(data = data, layout = layout)\n",
    "    iplot(fig, show_link = False)\n",
    "    if filename:\n",
    "        plotly.offline.plot(fig, filename=filename)"
   ]
  },
  {
   "cell_type": "markdown",
   "metadata": {},
   "source": [
    "## Подготовка данных"
   ]
  },
  {
   "cell_type": "code",
   "execution_count": 6,
   "metadata": {
    "collapsed": false
   },
   "outputs": [
    {
     "name": "stdout",
     "output_type": "stream",
     "text": [
      "(133898, 50)\n",
      "CPU times: user 56.1 s, sys: 14.6 s, total: 1min 10s\n",
      "Wall time: 1min 10s\n"
     ]
    }
   ],
   "source": [
    "%%time\n",
    "sample = 0.01\n",
    "\n",
    "dfs_sampled = []\n",
    "\n",
    "for filename in os.listdir('./train_data'):\n",
    "    df = pd.read_csv('./train_data/' + filename).fillna(0)\n",
    "    pos_df = df[df.target == 1]\n",
    "    neg_df = df[df.target == 0]\n",
    "\n",
    "    neg_df_sampled = neg_df.sample(frac = sample)\n",
    "    df_sampled = pd.concat([pos_df, neg_df_sampled])\n",
    "    dfs_sampled.append(df_sampled) \n",
    "\n",
    "df = pd.concat(dfs_sampled).drop_duplicates()\n",
    "X = df.drop(['target', 'user_id'], axis = 1)\n",
    "y = df.target\n",
    "\n",
    "print X.shape\n",
    "\n",
    "(X_train, X_test, y_train, y_test) = model_selection.train_test_split(X, y, \n",
    "                                                              test_size = 0.3, \n",
    "                                                              random_state = 0, \n",
    "                                                              stratify = y)\n",
    "\n",
    "scaler = preprocessing.StandardScaler()\n",
    "X_train_scaled = scaler.fit_transform(X_train)\n",
    "X_test_scaled = scaler.transform(X_test)"
   ]
  },
  {
   "cell_type": "markdown",
   "metadata": {},
   "source": [
    "#### Выделение данных Logs API"
   ]
  },
  {
   "cell_type": "code",
   "execution_count": 7,
   "metadata": {
    "collapsed": true
   },
   "outputs": [],
   "source": [
    "logs_api_cols = ['is_mobile',\n",
    " 'is_bounce_last_visit',\n",
    " 'days_since_last_visit',\n",
    " 'days_since_first_visit',\n",
    " 'is_yabrowser',\n",
    " 'mobile',\n",
    " 'first_source_direct',\n",
    " 'first_source_referral',\n",
    " 'first_source_organic',\n",
    " 'first_source_ad',\n",
    " 'first_source_saved',\n",
    " 'first_source_undefined',\n",
    " 'first_source_external',\n",
    " 'first_source_email',\n",
    " 'first_source_social',\n",
    " 'first_source_internal',\n",
    " 'avg_depth',\n",
    " 'avg_duration',\n",
    " 'visits',\n",
    " 'not_bounce_visits',\n",
    " 'purchases',\n",
    " 'purchased_products',\n",
    " 'viewed_products',\n",
    " 'cart_products',\n",
    " 'revenue',\n",
    " 'ad_visits',\n",
    " 'direct_visits',\n",
    " 'email_visits',\n",
    " 'internal_visits',\n",
    " 'organic_visits',\n",
    " 'referral_visits',\n",
    " 'saved_visits',\n",
    " 'social_visits',\n",
    " 'undefined_visits']"
   ]
  },
  {
   "cell_type": "code",
   "execution_count": 8,
   "metadata": {
    "collapsed": true
   },
   "outputs": [],
   "source": [
    "X_api = df[logs_api_cols]\n",
    "y_api = df.target\n",
    "\n",
    "(X_train_api, X_test_api, y_train_api, y_test_api) = model_selection.train_test_split(X_api, y_api, \n",
    "                                                              test_size = 0.3, \n",
    "                                                              random_state = 0, \n",
    "                                                              stratify = y)\n",
    "\n",
    "scaler = preprocessing.StandardScaler()\n",
    "X_train_scaled_api = scaler.fit_transform(X_train_api)\n",
    "X_test_scaled_api = scaler.transform(X_test_api)"
   ]
  },
  {
   "cell_type": "markdown",
   "metadata": {},
   "source": [
    "## Обучение (XGBoost)"
   ]
  },
  {
   "cell_type": "code",
   "execution_count": 9,
   "metadata": {
    "collapsed": false
   },
   "outputs": [
    {
     "name": "stderr",
     "output_type": "stream",
     "text": [
      "/usr/local/lib/python2.7/dist-packages/sklearn/cross_validation.py:44: DeprecationWarning:\n",
      "\n",
      "This module was deprecated in version 0.18 in favor of the model_selection module into which all the refactored classes and functions are moved. Also note that the interface of the new CV iterators are different from that of this module. This module will be removed in 0.20.\n",
      "\n"
     ]
    }
   ],
   "source": [
    "import xgboost as xgb"
   ]
  },
  {
   "cell_type": "code",
   "execution_count": 10,
   "metadata": {
    "collapsed": false
   },
   "outputs": [
    {
     "name": "stdout",
     "output_type": "stream",
     "text": [
      "CPU times: user 2min 14s, sys: 212 ms, total: 2min 14s\n",
      "Wall time: 17.8 s\n"
     ]
    },
    {
     "data": {
      "text/plain": [
       "XGBClassifier(base_score=0.5, colsample_bylevel=1, colsample_bytree=1,\n",
       "       gamma=0, learning_rate=0.025, max_delta_step=0, max_depth=3,\n",
       "       min_child_weight=10, missing=None, n_estimators=1000, nthread=-1,\n",
       "       objective='binary:logistic', reg_alpha=0, reg_lambda=1,\n",
       "       scale_pos_weight=1, seed=0, silent=True, subsample=0.5)"
      ]
     },
     "execution_count": 10,
     "metadata": {},
     "output_type": "execute_result"
    }
   ],
   "source": [
    "clf_xgb = xgb.XGBClassifier(\n",
    "    n_estimators = 1000,\n",
    "    colsample_bytree=1,\n",
    "    learning_rate=0.025,\n",
    "    max_depth=3,\n",
    "    min_child_weight=10,\n",
    "    subsample=0.5\n",
    ")\n",
    "%time clf_xgb.fit(X_train_scaled_api, y_train_api)"
   ]
  },
  {
   "cell_type": "code",
   "execution_count": 11,
   "metadata": {
    "collapsed": false
   },
   "outputs": [
    {
     "data": {
      "text/html": [
       "<div>\n",
       "<table border=\"1\" class=\"dataframe\">\n",
       "  <thead>\n",
       "    <tr style=\"text-align: right;\">\n",
       "      <th></th>\n",
       "      <th>weight</th>\n",
       "      <th>feature</th>\n",
       "    </tr>\n",
       "  </thead>\n",
       "  <tbody>\n",
       "    <tr>\n",
       "      <th>3</th>\n",
       "      <td>0.159943</td>\n",
       "      <td>days_since_first_visit</td>\n",
       "    </tr>\n",
       "    <tr>\n",
       "      <th>17</th>\n",
       "      <td>0.135676</td>\n",
       "      <td>avg_duration</td>\n",
       "    </tr>\n",
       "    <tr>\n",
       "      <th>2</th>\n",
       "      <td>0.117554</td>\n",
       "      <td>days_since_last_visit</td>\n",
       "    </tr>\n",
       "    <tr>\n",
       "      <th>16</th>\n",
       "      <td>0.103057</td>\n",
       "      <td>avg_depth</td>\n",
       "    </tr>\n",
       "    <tr>\n",
       "      <th>22</th>\n",
       "      <td>0.083990</td>\n",
       "      <td>viewed_products</td>\n",
       "    </tr>\n",
       "    <tr>\n",
       "      <th>24</th>\n",
       "      <td>0.047274</td>\n",
       "      <td>revenue</td>\n",
       "    </tr>\n",
       "    <tr>\n",
       "      <th>19</th>\n",
       "      <td>0.039080</td>\n",
       "      <td>not_bounce_visits</td>\n",
       "    </tr>\n",
       "    <tr>\n",
       "      <th>18</th>\n",
       "      <td>0.039080</td>\n",
       "      <td>visits</td>\n",
       "    </tr>\n",
       "    <tr>\n",
       "      <th>25</th>\n",
       "      <td>0.031358</td>\n",
       "      <td>ad_visits</td>\n",
       "    </tr>\n",
       "    <tr>\n",
       "      <th>26</th>\n",
       "      <td>0.030098</td>\n",
       "      <td>direct_visits</td>\n",
       "    </tr>\n",
       "  </tbody>\n",
       "</table>\n",
       "</div>"
      ],
      "text/plain": [
       "      weight                 feature\n",
       "3   0.159943  days_since_first_visit\n",
       "17  0.135676            avg_duration\n",
       "2   0.117554   days_since_last_visit\n",
       "16  0.103057               avg_depth\n",
       "22  0.083990         viewed_products\n",
       "24  0.047274                 revenue\n",
       "19  0.039080       not_bounce_visits\n",
       "18  0.039080                  visits\n",
       "25  0.031358               ad_visits\n",
       "26  0.030098           direct_visits"
      ]
     },
     "execution_count": 11,
     "metadata": {},
     "output_type": "execute_result"
    }
   ],
   "source": [
    "xgb_features_df = pd.DataFrame()\n",
    "xgb_features_df['weight'] = clf_xgb.feature_importances_\n",
    "xgb_features_df['feature'] = logs_api_cols\n",
    "xgb_features_df.sort_values('weight', ascending = False).head(10)"
   ]
  },
  {
   "cell_type": "code",
   "execution_count": 12,
   "metadata": {
    "collapsed": false
   },
   "outputs": [
    {
     "data": {
      "text/plain": [
       "0.86153358675776759"
      ]
     },
     "execution_count": 12,
     "metadata": {},
     "output_type": "execute_result"
    }
   ],
   "source": [
    "y_xgb = clf_xgb.predict_proba(X_test_scaled_api)[:, 1]\n",
    "roc_auc_xgb = metrics.roc_auc_score(y_test_api, y_xgb)\n",
    "roc_auc_xgb "
   ]
  },
  {
   "cell_type": "code",
   "execution_count": 13,
   "metadata": {
    "collapsed": false
   },
   "outputs": [
    {
     "data": {
      "text/html": [
       "<div id=\"7bddc79f-1d81-467a-8a6a-f14f7faf494e\" style=\"height: 525px; width: 100%;\" class=\"plotly-graph-div\"></div><script type=\"text/javascript\">require([\"plotly\"], function(Plotly) { window.PLOTLYENV=window.PLOTLYENV || {};window.PLOTLYENV.BASE_URL=\"https://plot.ly\";Plotly.newPlot(\"7bddc79f-1d81-467a-8a6a-f14f7faf494e\", [{\"y\": [1, 7865, 7091, 4000, 2814, 2142, 1774, 1395, 1171, 948, 790, 787, 601, 547, 527, 435, 403, 379, 296, 292, 273, 276, 235, 214, 217, 199, 171, 151, 154, 136, 147, 126, 126, 111, 109, 129, 88, 111, 97, 98, 103, 110, 83, 86, 71, 80, 75, 62, 83, 78, 56, 58, 61, 73, 46, 66, 57, 53, 52, 48, 46, 46, 48, 56, 46, 47, 30, 42, 44, 32, 42, 43, 33, 33, 38, 43, 39, 29, 30, 40, 38, 36, 28, 35, 37, 38, 33, 44, 21, 43, 12, 23, 31, 27, 18, 24, 17, 20, 10, 1], \"x\": [0.0, 1.0, 2.0, 3.0, 4.0, 5.0, 6.0, 7.000000000000001, 8.0, 9.0, 10.0, 11.0, 12.0, 13.0, 14.000000000000002, 15.0, 16.0, 17.0, 18.0, 19.0, 20.0, 21.0, 22.0, 23.0, 24.0, 25.0, 26.0, 27.0, 28.000000000000004, 28.999999999999996, 30.0, 31.0, 32.0, 33.0, 34.0, 35.0, 36.0, 37.0, 38.0, 39.0, 40.0, 41.0, 42.0, 43.0, 44.0, 45.0, 46.0, 47.0, 48.0, 49.0, 50.0, 51.0, 52.0, 53.0, 54.0, 55.00000000000001, 56.00000000000001, 56.99999999999999, 57.99999999999999, 59.0, 60.0, 61.0, 62.0, 63.0, 64.0, 65.0, 66.0, 67.0, 68.0, 69.0, 70.0, 71.0, 72.0, 73.0, 74.0, 75.0, 76.0, 77.0, 78.0, 79.0, 80.0, 81.0, 82.0, 83.0, 84.0, 85.0, 86.0, 87.0, 88.0, 89.0, 90.0, 91.0, 92.0, 93.0, 94.0, 95.0, 96.0, 97.0, 98.0, 99.0], \"type\": \"scatter\", \"name\": \"probability\", \"mode\": \"lines\"}], {\"title\": \"\"}, {\"linkText\": \"Export to plot.ly\", \"showLink\": false})});</script>"
      ],
      "text/plain": [
       "<IPython.core.display.HTML object>"
      ]
     },
     "metadata": {},
     "output_type": "display_data"
    }
   ],
   "source": [
    "y_xgb_df = pd.DataFrame(y_xgb)\n",
    "y_xgb_df.columns = ['probability']\n",
    "y_xgb_df['probability_rounded'] = map(lambda x: 100*round(x, 2), y_xgb_df.probability)\n",
    "plotly_df(y_xgb_df.groupby('probability_rounded').count())"
   ]
  },
  {
   "cell_type": "markdown",
   "metadata": {},
   "source": [
    "## Предсказание для новых данных"
   ]
  },
  {
   "cell_type": "code",
   "execution_count": 14,
   "metadata": {
    "collapsed": false
   },
   "outputs": [
    {
     "name": "stdout",
     "output_type": "stream",
     "text": [
      "(2976722, 52)\n",
      "CPU times: user 23.9 s, sys: 6.88 s, total: 30.7 s\n",
      "Wall time: 30.7 s\n"
     ]
    }
   ],
   "source": [
    "%%time\n",
    "\n",
    "dfs_= []\n",
    "\n",
    "for filename in os.listdir('./test_data'):\n",
    "    if filename.startswith('.'):\n",
    "        continue\n",
    "    df = pd.read_csv('./test_data/' + filename).fillna(0)\n",
    "    dfs_sampled.append(df) \n",
    "\n",
    "df_exp = pd.concat(dfs_sampled).drop_duplicates()\n",
    "print df_exp.shape\n",
    "\n",
    "X_api_exp = df_exp[logs_api_cols]\n",
    "\n",
    "X_scaled_api_exp = scaler.transform(X_api_exp)"
   ]
  },
  {
   "cell_type": "code",
   "execution_count": 15,
   "metadata": {
    "collapsed": true
   },
   "outputs": [],
   "source": [
    "df_exp['prediction'] = clf_xgb.predict_proba(X_scaled_api_exp)[:, 1]"
   ]
  },
  {
   "cell_type": "code",
   "execution_count": 16,
   "metadata": {
    "collapsed": false
   },
   "outputs": [],
   "source": [
    "df_exp['prediction_rounded'] = map(lambda x: round(x, 2), df_exp.prediction)"
   ]
  },
  {
   "cell_type": "code",
   "execution_count": 17,
   "metadata": {
    "collapsed": false
   },
   "outputs": [],
   "source": [
    "predictions_df = df_exp.groupby('prediction_rounded')[['user_id']].count()"
   ]
  },
  {
   "cell_type": "code",
   "execution_count": 18,
   "metadata": {
    "collapsed": false
   },
   "outputs": [
    {
     "data": {
      "text/html": [
       "<div id=\"3b6d5e3c-bef7-4776-82bd-ae4e37db62e4\" style=\"height: 525px; width: 100%;\" class=\"plotly-graph-div\"></div><script type=\"text/javascript\">require([\"plotly\"], function(Plotly) { window.PLOTLYENV=window.PLOTLYENV || {};window.PLOTLYENV.BASE_URL=\"https://plot.ly\";Plotly.newPlot(\"3b6d5e3c-bef7-4776-82bd-ae4e37db62e4\", [{\"y\": [34, 584202, 562981, 330329, 228274, 176401, 138124, 107654, 90774, 73291, 63719, 57383, 47983, 41014, 37082, 32073, 28929, 25931, 22697, 21335, 19161, 17451, 15980, 14934, 13564, 12378, 11451, 10556, 10052, 9395, 8971, 8359, 7722, 7176, 6710, 6494, 6056, 5828, 5474, 5247, 5092, 4819, 4613, 4431, 4100, 3967, 3765, 3603, 3479, 3303, 3146, 3011, 2901, 2806, 2624, 2488, 2375, 2334, 2153, 2088, 1959, 1869, 1789, 1667, 1663, 1528, 1498, 1401, 1383, 1279, 1257, 1235, 1134, 1064, 1074, 1086, 993, 948, 912, 894, 845, 842, 751, 779, 750, 693, 657, 580, 630, 550, 456, 452, 424, 352, 314, 265, 210, 173, 85, 14], \"x\": [0.0, 0.01, 0.02, 0.03, 0.04, 0.05, 0.06, 0.07, 0.08, 0.09, 0.1, 0.11, 0.12, 0.13, 0.14, 0.15, 0.16, 0.17, 0.18, 0.19, 0.2, 0.21, 0.22, 0.23, 0.24, 0.25, 0.26, 0.27, 0.28, 0.29, 0.3, 0.31, 0.32, 0.33, 0.34, 0.35, 0.36, 0.37, 0.38, 0.39, 0.4, 0.41, 0.42, 0.43, 0.44, 0.45, 0.46, 0.47, 0.48, 0.49, 0.5, 0.51, 0.52, 0.53, 0.54, 0.55, 0.56, 0.57, 0.58, 0.59, 0.6, 0.61, 0.62, 0.63, 0.64, 0.65, 0.66, 0.67, 0.68, 0.69, 0.7, 0.71, 0.72, 0.73, 0.74, 0.75, 0.76, 0.77, 0.78, 0.79, 0.8, 0.81, 0.82, 0.83, 0.84, 0.85, 0.86, 0.87, 0.88, 0.89, 0.9, 0.91, 0.92, 0.93, 0.94, 0.95, 0.96, 0.97, 0.98, 0.99], \"type\": \"scatter\", \"name\": \"user_id\", \"mode\": \"lines\"}], {\"title\": \"\\u0420\\u0430\\u0441\\u043f\\u0440\\u0435\\u0434\\u0435\\u043b\\u0435\\u043d\\u0438\\u0435 \\u043f\\u043e \\u0432\\u0435\\u0440\\u043e\\u044f\\u0442\\u043d\\u043e\\u0441\\u0442\\u0438\"}, {\"linkText\": \"Export to plot.ly\", \"showLink\": false})});</script>"
      ],
      "text/plain": [
       "<IPython.core.display.HTML object>"
      ]
     },
     "metadata": {},
     "output_type": "display_data"
    }
   ],
   "source": [
    "plotly_df(predictions_df, title = 'Распределение по вероятности')"
   ]
  },
  {
   "cell_type": "code",
   "execution_count": 19,
   "metadata": {
    "collapsed": false
   },
   "outputs": [
    {
     "data": {
      "text/html": [
       "<div id=\"07e3f4be-cce2-47b3-84d6-dcc7a0b819e7\" style=\"height: 525px; width: 100%;\" class=\"plotly-graph-div\"></div><script type=\"text/javascript\">require([\"plotly\"], function(Plotly) { window.PLOTLYENV=window.PLOTLYENV || {};window.PLOTLYENV.BASE_URL=\"https://plot.ly\";Plotly.newPlot(\"07e3f4be-cce2-47b3-84d6-dcc7a0b819e7\", [{\"y\": [0.001142196012929659, 19.625682210162722, 18.912783928092715, 11.097072551618862, 7.668636842808969, 5.926015261082493, 4.640137708526359, 3.616528516939103, 3.0494617905199073, 2.462137881871401, 2.1405761102313217, 1.9277245238218417, 1.6119409202471713, 1.3778243315969714, 1.2457327221016945, 1.0774603741968514, 0.9718408370012382, 0.8711260238611466, 0.7624830266313078, 0.716727998113361, 0.6436946412866233, 0.5862489006363375, 0.5368321260769396, 0.5016928016791625, 0.4556690211581733, 0.4158265367071564, 0.38468489835463304, 0.3546182680142788, 0.33768689182261563, 0.31561563357276895, 0.30137177741152854, 0.28081224917879466, 0.2594128709365537, 0.2410705467289186, 0.2254157425517062, 0.21815943846956484, 0.20344526630300042, 0.19578583421629564, 0.18389355808167507, 0.1762677199953506, 0.17106064993640654, 0.161889487832589, 0.15496912375425048, 0.14885501568503878, 0.13773540155916475, 0.13326739950858696, 0.12648141143176958, 0.12103918337016356, 0.11687352732300833, 0.11096098325607832, 0.10568672519637373, 0.10115153514503537, 0.09745619510320414, 0.09426476506707714, 0.08815065699786544, 0.0835818729461468, 0.0797857509031747, 0.07840839688758305, 0.07232788281875163, 0.07014427279403317, 0.06581064674497653, 0.06278718671075095, 0.06009966668032823, 0.05600119863393357, 0.05586682263241243, 0.05133163258107408, 0.05032381256966556, 0.047065194532778, 0.04646050252593289, 0.04296672648638335, 0.04222765847801709, 0.041488590469650845, 0.03809559643124215, 0.03574401640462226, 0.03607995640842511, 0.03648308441298852, 0.03335884237762209, 0.031847112360509314, 0.030637728346819083, 0.03003303633997397, 0.02838693032134005, 0.028286148320199198, 0.025229094285593348, 0.026169726296241303, 0.025195500285213064, 0.02328064226353687, 0.022071258249846643, 0.01948452022056477, 0.021164220239578972, 0.018476700209156247, 0.015318864173409542, 0.015184488171888406, 0.014243856161240452, 0.011825088133859997, 0.010548516119409202, 0.008902410100775282, 0.007054740079859657, 0.0058117620657891465, 0.0028554900323241473, 0.0004703160053239772], \"x\": [0.0, 0.01, 0.02, 0.03, 0.04, 0.05, 0.06, 0.07, 0.08, 0.09, 0.1, 0.11, 0.12, 0.13, 0.14, 0.15, 0.16, 0.17, 0.18, 0.19, 0.2, 0.21, 0.22, 0.23, 0.24, 0.25, 0.26, 0.27, 0.28, 0.29, 0.3, 0.31, 0.32, 0.33, 0.34, 0.35, 0.36, 0.37, 0.38, 0.39, 0.4, 0.41, 0.42, 0.43, 0.44, 0.45, 0.46, 0.47, 0.48, 0.49, 0.5, 0.51, 0.52, 0.53, 0.54, 0.55, 0.56, 0.57, 0.58, 0.59, 0.6, 0.61, 0.62, 0.63, 0.64, 0.65, 0.66, 0.67, 0.68, 0.69, 0.7, 0.71, 0.72, 0.73, 0.74, 0.75, 0.76, 0.77, 0.78, 0.79, 0.8, 0.81, 0.82, 0.83, 0.84, 0.85, 0.86, 0.87, 0.88, 0.89, 0.9, 0.91, 0.92, 0.93, 0.94, 0.95, 0.96, 0.97, 0.98, 0.99], \"type\": \"scatter\", \"name\": \"user_id\", \"mode\": \"lines\"}], {\"title\": \"\\u0420\\u0430\\u0441\\u043f\\u0440\\u0435\\u0434\\u0435\\u043b\\u0435\\u043d\\u0438\\u0435 \\u043f\\u043e \\u0432\\u0435\\u0440\\u043e\\u044f\\u0442\\u043d\\u043e\\u0441\\u0442\\u0438\"}, {\"linkText\": \"Export to plot.ly\", \"showLink\": false})});</script>"
      ],
      "text/plain": [
       "<IPython.core.display.HTML object>"
      ]
     },
     "metadata": {},
     "output_type": "display_data"
    }
   ],
   "source": [
    "plotly_df(predictions_df.apply(lambda x: 100.*x/predictions_df.user_id.sum()), title = 'Распределение по вероятности')"
   ]
  },
  {
   "cell_type": "code",
   "execution_count": 20,
   "metadata": {
    "collapsed": false
   },
   "outputs": [
    {
     "data": {
      "text/html": [
       "<div id=\"66062b40-30ba-42b7-8068-ba7ed29276f0\" style=\"height: 525px; width: 100%;\" class=\"plotly-graph-div\"></div><script type=\"text/javascript\">require([\"plotly\"], function(Plotly) { window.PLOTLYENV=window.PLOTLYENV || {};window.PLOTLYENV.BASE_URL=\"https://plot.ly\";Plotly.newPlot(\"66062b40-30ba-42b7-8068-ba7ed29276f0\", [{\"y\": [0.001142196012929659, 19.62682440617565, 38.539608334268365, 49.63668088588723, 57.305317728696195, 63.231332989778686, 67.87147069830505, 71.48799921524414, 74.53746100576406, 76.99959888763546, 79.14017499786678, 81.06789952168862, 82.67984044193578, 84.05766477353275, 85.30339749563444, 86.38085786983129, 87.35269870683253, 88.22382473069368, 88.98630775732498, 89.70303575543834, 90.34673039672496, 90.9329792973613, 91.46981142343824, 91.97150422511741, 92.42717324627559, 92.84299978298274, 93.22768468133738, 93.58230294935166, 93.91998984117427, 94.23560547474705, 94.53697725215858, 94.81778950133737, 95.07720237227393, 95.31827291900285, 95.54368866155455, 95.76184810002412, 95.96529336632713, 96.16107920054343, 96.3449727586251, 96.52124047862046, 96.69230112855686, 96.85419061638946, 97.00915974014372, 97.15801475582876, 97.29575015738793, 97.42901755689651, 97.55549896832828, 97.67653815169844, 97.79341167902145, 97.90437266227752, 98.0100593874739, 98.11121092261894, 98.20866711772214, 98.30293188278922, 98.39108253978709, 98.47466441273323, 98.5544501636364, 98.63285856052399, 98.70518644334274, 98.77533071613678, 98.84114136288176, 98.90392854959251, 98.96402821627284, 99.02002941490677, 99.07589623753918, 99.12722787012025, 99.17755168268992, 99.2246168772227, 99.27107737974863, 99.31404410623502, 99.35627176471303, 99.39776035518268, 99.43585595161393, 99.47159996801855, 99.50767992442698, 99.54416300883997, 99.5775218512176, 99.6093689635781, 99.64000669192492, 99.6700397282649, 99.69842665858624, 99.72671280690645, 99.75194190119204, 99.77811162748829, 99.8033071277735, 99.82658777003704, 99.84865902828689, 99.86814354850745, 99.88930776874703, 99.9077844689562, 99.9231033331296, 99.93828782130149, 99.95253167746273, 99.96435676559659, 99.974905281716, 99.98380769181678, 99.99086243189664, 99.99667419396243, 99.99952968399475, 100.00000000000007], \"x\": [0.0, 0.01, 0.02, 0.03, 0.04, 0.05, 0.06, 0.07, 0.08, 0.09, 0.1, 0.11, 0.12, 0.13, 0.14, 0.15, 0.16, 0.17, 0.18, 0.19, 0.2, 0.21, 0.22, 0.23, 0.24, 0.25, 0.26, 0.27, 0.28, 0.29, 0.3, 0.31, 0.32, 0.33, 0.34, 0.35, 0.36, 0.37, 0.38, 0.39, 0.4, 0.41, 0.42, 0.43, 0.44, 0.45, 0.46, 0.47, 0.48, 0.49, 0.5, 0.51, 0.52, 0.53, 0.54, 0.55, 0.56, 0.57, 0.58, 0.59, 0.6, 0.61, 0.62, 0.63, 0.64, 0.65, 0.66, 0.67, 0.68, 0.69, 0.7, 0.71, 0.72, 0.73, 0.74, 0.75, 0.76, 0.77, 0.78, 0.79, 0.8, 0.81, 0.82, 0.83, 0.84, 0.85, 0.86, 0.87, 0.88, 0.89, 0.9, 0.91, 0.92, 0.93, 0.94, 0.95, 0.96, 0.97, 0.98, 0.99], \"type\": \"scatter\", \"name\": \"user_id\", \"mode\": \"lines\"}], {\"title\": \"\\u0413\\u0440\\u0430\\u0444\\u0438\\u043a \\u0441 \\u043d\\u0430\\u043a\\u043e\\u043f\\u043b\\u0435\\u043d\\u0438\\u0435\\u043c\"}, {\"linkText\": \"Export to plot.ly\", \"showLink\": false})});</script>"
      ],
      "text/plain": [
       "<IPython.core.display.HTML object>"
      ]
     },
     "metadata": {},
     "output_type": "display_data"
    }
   ],
   "source": [
    "plotly_df(predictions_df.apply(lambda x: 100.*x/predictions_df.user_id.sum()).cumsum(), title = 'График с накоплением')"
   ]
  },
  {
   "cell_type": "code",
   "execution_count": 31,
   "metadata": {
    "collapsed": false
   },
   "outputs": [],
   "source": [
    "df_exp.to_csv('predictions_2017.csv')"
   ]
  },
  {
   "cell_type": "code",
   "execution_count": 32,
   "metadata": {
    "collapsed": false
   },
   "outputs": [
    {
     "name": "stdout",
     "output_type": "stream",
     "text": [
      "total 457M\r\n",
      "-rw-r--r-- 1 miptgirl dpt_yandex_monetize_metrica_dev_beh   1M Jan 24 13:33 get_users_data_client.ipynb\r\n",
      "-rw-r--r-- 1 miptgirl dpt_yandex_monetize_metrica_dev_beh   1M Jan 24 15:38 ml_model.ipynb\r\n",
      "-rw-r--r-- 1 miptgirl dpt_yandex_monetize_metrica_dev_beh 457M Jan 24 15:38 predictions_2017.csv\r\n",
      "drwxr-xr-x 3 miptgirl dpt_yandex_monetize_metrica_dev_beh   1M Jan 24 15:16 test_data\r\n",
      "drwxr-xr-x 2 miptgirl dpt_yandex_monetize_metrica_dev_beh   1M Jan 24 13:05 train_data\r\n"
     ]
    }
   ],
   "source": [
    "! ls -l --block-size=M"
   ]
  },
  {
   "cell_type": "code",
   "execution_count": 38,
   "metadata": {
    "collapsed": false
   },
   "outputs": [
    {
     "data": {
      "text/plain": [
       "(2976723, 54)"
      ]
     },
     "execution_count": 38,
     "metadata": {},
     "output_type": "execute_result"
    }
   ],
   "source": [
    "df_exp.shape"
   ]
  },
  {
   "cell_type": "code",
   "execution_count": 32,
   "metadata": {
    "collapsed": false
   },
   "outputs": [],
   "source": [
    "df_exp['prediction_rounded_2'] = map(lambda x:  x - x % 0.05, df_exp.prediction)"
   ]
  },
  {
   "cell_type": "code",
   "execution_count": 44,
   "metadata": {
    "collapsed": false
   },
   "outputs": [],
   "source": [
    "pred_share = df_exp.groupby('prediction_rounded_2')[['user_id']].count()"
   ]
  },
  {
   "cell_type": "code",
   "execution_count": 45,
   "metadata": {
    "collapsed": false
   },
   "outputs": [],
   "source": [
    "pred_share['volume'] = map(lambda x: str(round(100.*x/pred_share.user_id.sum(), 2)) + '%', pred_share.user_id)"
   ]
  },
  {
   "cell_type": "code",
   "execution_count": 46,
   "metadata": {
    "collapsed": false
   },
   "outputs": [],
   "source": [
    "pred_share.reset_index(inplace = True)\n",
    "pred_share.columns = ['predicted_probability', 'users', 'share by users']"
   ]
  },
  {
   "cell_type": "code",
   "execution_count": 48,
   "metadata": {
    "collapsed": false
   },
   "outputs": [
    {
     "data": {
      "text/html": [
       "<div>\n",
       "<table border=\"1\" class=\"dataframe\">\n",
       "  <thead>\n",
       "    <tr style=\"text-align: right;\">\n",
       "      <th></th>\n",
       "      <th>users</th>\n",
       "      <th>share by users</th>\n",
       "    </tr>\n",
       "    <tr>\n",
       "      <th>predicted_probability</th>\n",
       "      <th></th>\n",
       "      <th></th>\n",
       "    </tr>\n",
       "  </thead>\n",
       "  <tbody>\n",
       "    <tr>\n",
       "      <th>0.00</th>\n",
       "      <td>1804781</td>\n",
       "      <td>60.63%</td>\n",
       "    </tr>\n",
       "    <tr>\n",
       "      <th>0.05</th>\n",
       "      <td>520039</td>\n",
       "      <td>17.47%</td>\n",
       "    </tr>\n",
       "    <tr>\n",
       "      <th>0.10</th>\n",
       "      <td>231115</td>\n",
       "      <td>7.76%</td>\n",
       "    </tr>\n",
       "    <tr>\n",
       "      <th>0.15</th>\n",
       "      <td>124030</td>\n",
       "      <td>4.17%</td>\n",
       "    </tr>\n",
       "    <tr>\n",
       "      <th>0.20</th>\n",
       "      <td>77585</td>\n",
       "      <td>2.61%</td>\n",
       "    </tr>\n",
       "    <tr>\n",
       "      <th>0.25</th>\n",
       "      <td>52111</td>\n",
       "      <td>1.75%</td>\n",
       "    </tr>\n",
       "    <tr>\n",
       "      <th>0.30</th>\n",
       "      <td>37763</td>\n",
       "      <td>1.27%</td>\n",
       "    </tr>\n",
       "    <tr>\n",
       "      <th>0.35</th>\n",
       "      <td>28337</td>\n",
       "      <td>0.95%</td>\n",
       "    </tr>\n",
       "    <tr>\n",
       "      <th>0.40</th>\n",
       "      <td>22516</td>\n",
       "      <td>0.76%</td>\n",
       "    </tr>\n",
       "    <tr>\n",
       "      <th>0.45</th>\n",
       "      <td>17667</td>\n",
       "      <td>0.59%</td>\n",
       "    </tr>\n",
       "    <tr>\n",
       "      <th>0.50</th>\n",
       "      <td>14114</td>\n",
       "      <td>0.47%</td>\n",
       "    </tr>\n",
       "    <tr>\n",
       "      <th>0.55</th>\n",
       "      <td>11196</td>\n",
       "      <td>0.38%</td>\n",
       "    </tr>\n",
       "    <tr>\n",
       "      <th>0.60</th>\n",
       "      <td>8765</td>\n",
       "      <td>0.29%</td>\n",
       "    </tr>\n",
       "    <tr>\n",
       "      <th>0.65</th>\n",
       "      <td>6930</td>\n",
       "      <td>0.23%</td>\n",
       "    </tr>\n",
       "    <tr>\n",
       "      <th>0.70</th>\n",
       "      <td>5659</td>\n",
       "      <td>0.19%</td>\n",
       "    </tr>\n",
       "    <tr>\n",
       "      <th>0.75</th>\n",
       "      <td>4721</td>\n",
       "      <td>0.16%</td>\n",
       "    </tr>\n",
       "    <tr>\n",
       "      <th>0.80</th>\n",
       "      <td>3913</td>\n",
       "      <td>0.13%</td>\n",
       "    </tr>\n",
       "    <tr>\n",
       "      <th>0.85</th>\n",
       "      <td>2972</td>\n",
       "      <td>0.1%</td>\n",
       "    </tr>\n",
       "    <tr>\n",
       "      <th>0.90</th>\n",
       "      <td>1909</td>\n",
       "      <td>0.06%</td>\n",
       "    </tr>\n",
       "    <tr>\n",
       "      <th>0.95</th>\n",
       "      <td>599</td>\n",
       "      <td>0.02%</td>\n",
       "    </tr>\n",
       "  </tbody>\n",
       "</table>\n",
       "</div>"
      ],
      "text/plain": [
       "                         users share by users\n",
       "predicted_probability                        \n",
       "0.00                   1804781         60.63%\n",
       "0.05                    520039         17.47%\n",
       "0.10                    231115          7.76%\n",
       "0.15                    124030          4.17%\n",
       "0.20                     77585          2.61%\n",
       "0.25                     52111          1.75%\n",
       "0.30                     37763          1.27%\n",
       "0.35                     28337          0.95%\n",
       "0.40                     22516          0.76%\n",
       "0.45                     17667          0.59%\n",
       "0.50                     14114          0.47%\n",
       "0.55                     11196          0.38%\n",
       "0.60                      8765          0.29%\n",
       "0.65                      6930          0.23%\n",
       "0.70                      5659          0.19%\n",
       "0.75                      4721          0.16%\n",
       "0.80                      3913          0.13%\n",
       "0.85                      2972           0.1%\n",
       "0.90                      1909          0.06%\n",
       "0.95                       599          0.02%"
      ]
     },
     "execution_count": 48,
     "metadata": {},
     "output_type": "execute_result"
    }
   ],
   "source": [
    "pred_share.set_index('predicted_probability')"
   ]
  },
  {
   "cell_type": "code",
   "execution_count": null,
   "metadata": {
    "collapsed": true
   },
   "outputs": [],
   "source": []
  }
 ],
 "metadata": {
  "kernelspec": {
   "display_name": "Python 2",
   "language": "python",
   "name": "python2"
  },
  "language_info": {
   "codemirror_mode": {
    "name": "ipython",
    "version": 2
   },
   "file_extension": ".py",
   "mimetype": "text/x-python",
   "name": "python",
   "nbconvert_exporter": "python",
   "pygments_lexer": "ipython2",
   "version": "2.7.3"
  }
 },
 "nbformat": 4,
 "nbformat_minor": 2
}
